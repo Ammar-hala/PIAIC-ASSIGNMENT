{
 "cells": [
  {
   "cell_type": "markdown",
   "metadata": {},
   "source": [
    "## 1. Calculate Area of a Circle"
   ]
  },
  {
   "cell_type": "markdown",
   "metadata": {},
   "source": [
    "#### Write a Python program which accepts the radius of a circle from the user and compute the area.\n",
    "###### Program Console Sample Output 1:\n",
    "###### Input Radius: 0.5\n",
    "###### Area of Circle with radius 0.5 is 0.7853981634"
   ]
  },
  {
   "cell_type": "code",
   "execution_count": 11,
   "metadata": {},
   "outputs": [
    {
     "name": "stdout",
     "output_type": "stream",
     "text": [
      "Input Radius : 0.5\n",
      "Area of Circle with radius 0.5 is 0.785500\n"
     ]
    }
   ],
   "source": [
    "rad = float(input(\"Input Radius : \"))\n",
    "area = 3.142*(rad)*(rad) \n",
    "print(\"Area of Circle with radius %.1f is %f\" %(rad,area))"
   ]
  },
  {
   "cell_type": "code",
   "execution_count": null,
   "metadata": {},
   "outputs": [],
   "source": []
  },
  {
   "cell_type": "code",
   "execution_count": null,
   "metadata": {},
   "outputs": [],
   "source": []
  },
  {
   "cell_type": "markdown",
   "metadata": {},
   "source": [
    "## 2. Check Number either positive, negative or zero"
   ]
  },
  {
   "cell_type": "markdown",
   "metadata": {},
   "source": [
    "#### Write a Python program to check if a number is positive, negative or zero\n",
    "###### Program Console Sample Output 1:\n",
    "###### Enter Number: -1\n",
    "##### Negative Number Entered\n",
    "###### Program Console Sample Output 2:\n",
    "##### Integer: 3\n",
    "##### Positive Number Entered\n",
    "###### Program Console Sample Output 3:\n",
    "##### Integer: 0\n",
    "###### Zero Entered"
   ]
  },
  {
   "cell_type": "code",
   "execution_count": 13,
   "metadata": {},
   "outputs": [
    {
     "name": "stdout",
     "output_type": "stream",
     "text": [
      "Enter Number: -1\n",
      "Negative Number Entered.\n"
     ]
    }
   ],
   "source": [
    "num = int(input(\"Enter Number: \"))\n",
    "if(num > 0):\n",
    "    print(\"Positive Number Entered.\")\n",
    "elif(num < 0):\n",
    "    print(\"Negative Number Entered.\")\n",
    "elif(num == 0):\n",
    "    print(\"Zero Entered.\")"
   ]
  },
  {
   "cell_type": "code",
   "execution_count": 14,
   "metadata": {},
   "outputs": [
    {
     "name": "stdout",
     "output_type": "stream",
     "text": [
      "Enter Number: 3\n",
      "Positive Number Entered.\n"
     ]
    }
   ],
   "source": [
    "num = int(input(\"Enter Number: \"))\n",
    "if(num > 0):\n",
    "    print(\"Positive Number Entered.\")\n",
    "elif(num < 0):\n",
    "    print(\"Negative Number Entered.\")\n",
    "elif(num == 0):\n",
    "    print(\"Zero Entered.\")"
   ]
  },
  {
   "cell_type": "code",
   "execution_count": 15,
   "metadata": {},
   "outputs": [
    {
     "name": "stdout",
     "output_type": "stream",
     "text": [
      "Enter Number: 0\n",
      "Zero Entered.\n"
     ]
    }
   ],
   "source": [
    "num = int(input(\"Enter Number: \"))\n",
    "if(num > 0):\n",
    "    print(\"Positive Number Entered.\")\n",
    "elif(num < 0):\n",
    "    print(\"Negative Number Entered.\")\n",
    "elif(num == 0):\n",
    "    print(\"Zero Entered.\")"
   ]
  },
  {
   "cell_type": "code",
   "execution_count": null,
   "metadata": {},
   "outputs": [],
   "source": []
  },
  {
   "cell_type": "markdown",
   "metadata": {},
   "source": [
    "## 3. Divisibility Check of two numbers"
   ]
  },
  {
   "cell_type": "markdown",
   "metadata": {},
   "source": [
    "#### Write a Python program to check whether a number is completely divisible by another number. Accept two integer values form the user\n",
    "##### Program Console Sample Output 1:\n",
    "###### Enter numerator: 4\n",
    "###### Enter Denominator: 2\n",
    "##### Number 4 is Completely divisible by 2\n",
    "###### Program Console Sample Output 2:\n",
    "##### Enter numerator: 7\n",
    "\n",
    "##### Enter Denominator: 4\n",
    "###### Number 7 is not Completely divisible by 4"
   ]
  },
  {
   "cell_type": "code",
   "execution_count": 16,
   "metadata": {},
   "outputs": [
    {
     "name": "stdout",
     "output_type": "stream",
     "text": [
      "Enter Numerator : 4\n",
      "Enter Denominator : 2\n",
      "Number 4 is completely divisible by 2\n"
     ]
    }
   ],
   "source": [
    "numerat = int(input(\"Enter Numerator : \"))\n",
    "denom = int(input(\"Enter Denominator : \"))\n",
    "\n",
    "if((numerat % denom) == 0):\n",
    "    print(\"Number %d is completely divisible by %d\" %(numerat,denom))\n",
    "else:\n",
    "    print(\"Number %d is not completely divisible by %d\" %(numerat,denom))"
   ]
  },
  {
   "cell_type": "code",
   "execution_count": 17,
   "metadata": {},
   "outputs": [
    {
     "name": "stdout",
     "output_type": "stream",
     "text": [
      "Enter Numerator : 7\n",
      "Enter Denominator : 4\n",
      "Number 7 is not completely divisible by 4\n"
     ]
    }
   ],
   "source": [
    "numerat = int(input(\"Enter Numerator : \"))\n",
    "denom = int(input(\"Enter Denominator : \"))\n",
    "\n",
    "if((numerat % denom) == 0):\n",
    "    print(\"Number %d is completely divisible by %d\" %(numerat,denom))\n",
    "else:\n",
    "    print(\"Number %d is not completely divisible by %d\" %(numerat,denom))"
   ]
  },
  {
   "cell_type": "code",
   "execution_count": null,
   "metadata": {},
   "outputs": [],
   "source": []
  },
  {
   "cell_type": "code",
   "execution_count": null,
   "metadata": {},
   "outputs": [],
   "source": []
  },
  {
   "cell_type": "code",
   "execution_count": null,
   "metadata": {},
   "outputs": [],
   "source": []
  },
  {
   "cell_type": "code",
   "execution_count": null,
   "metadata": {},
   "outputs": [],
   "source": []
  },
  {
   "cell_type": "markdown",
   "metadata": {},
   "source": [
    "## 4. Calculate Volume of a sphere"
   ]
  },
  {
   "cell_type": "markdown",
   "metadata": {},
   "source": [
    "##### Write a Python program to get the volume of a sphere, please take the radius as input from user"
   ]
  },
  {
   "cell_type": "markdown",
   "metadata": {},
   "source": [
    "##### Program Console Output:\n",
    "##### Enter Radius of Sphere: 1\n",
    "###### Volume of the Sphere with Radius 1 is 4.18"
   ]
  },
  {
   "cell_type": "code",
   "execution_count": 3,
   "metadata": {},
   "outputs": [
    {
     "name": "stdout",
     "output_type": "stream",
     "text": [
      "Enter Radius of Sphere: 1\n",
      "Volume of the Sphere with Radius 1.0 is 4.19\n"
     ]
    }
   ],
   "source": [
    "rad = float(input(\"Enter Radius of Sphere: \"))\n",
    "vol = (4/3) * 3.142 * (rad)**3\n",
    "print(\"Volume of the Sphere with Radius %.1f is %.2f\" %(rad,vol))"
   ]
  },
  {
   "cell_type": "code",
   "execution_count": null,
   "metadata": {},
   "outputs": [],
   "source": []
  },
  {
   "cell_type": "code",
   "execution_count": null,
   "metadata": {},
   "outputs": [],
   "source": []
  },
  {
   "cell_type": "code",
   "execution_count": null,
   "metadata": {},
   "outputs": [],
   "source": []
  },
  {
   "cell_type": "code",
   "execution_count": null,
   "metadata": {},
   "outputs": [],
   "source": []
  },
  {
   "cell_type": "markdown",
   "metadata": {},
   "source": [
    "## 5. Copy string n times\n",
    "#### Write a Python program to get a string which is n (non-negative integer) copies of a given string.\n",
    "##### Program Console Output:\n",
    "##### Enter String: Hi\n",
    "###### How many copies of String you need: 4\n",
    "###### 4 Copies of Hi are HiHiHiHi"
   ]
  },
  {
   "cell_type": "code",
   "execution_count": 4,
   "metadata": {},
   "outputs": [
    {
     "name": "stdout",
     "output_type": "stream",
     "text": [
      "Enter String : Hi\n",
      "How many copies of String do you need : 4\n",
      "4 Copies of Hi are HiHiHiHi\n"
     ]
    }
   ],
   "source": [
    "str = input(\"Enter String : \")\n",
    "N = int(input(\"How many copies of String do you need : \"))\n",
    "str1 = N * str\n",
    "print(\"%d Copies of %s are %s\" %(N,str,str1))"
   ]
  },
  {
   "cell_type": "code",
   "execution_count": null,
   "metadata": {},
   "outputs": [],
   "source": []
  },
  {
   "cell_type": "code",
   "execution_count": null,
   "metadata": {},
   "outputs": [],
   "source": []
  },
  {
   "cell_type": "code",
   "execution_count": null,
   "metadata": {},
   "outputs": [],
   "source": []
  },
  {
   "cell_type": "code",
   "execution_count": null,
   "metadata": {},
   "outputs": [],
   "source": []
  },
  {
   "cell_type": "markdown",
   "metadata": {},
   "source": [
    "## 6. Check if number is Even or Odd\n",
    "### Write a Python program to find whether a given number (accept from the user) is even or odd, print out an appropriate message to the user\n",
    "#### Program Console Output 1:\n",
    "##### Enter Number: 4\n",
    "###### 4 is Even\n",
    "#### Program Console Output 2:\n",
    "##### Enter Number: 9\n",
    "###### 9 is Odd"
   ]
  },
  {
   "cell_type": "code",
   "execution_count": 21,
   "metadata": {},
   "outputs": [
    {
     "name": "stdout",
     "output_type": "stream",
     "text": [
      "Ente Number : 4\n",
      "4 is Even.\n"
     ]
    }
   ],
   "source": [
    "n = int(input(\"Ente Number : \"))\n",
    "if(n % 2 == 0):\n",
    "    print(\"%d is Even.\" %(n))\n",
    "else:\n",
    "    print(\"%d is Odd.\" %(n))"
   ]
  },
  {
   "cell_type": "code",
   "execution_count": 22,
   "metadata": {},
   "outputs": [
    {
     "name": "stdout",
     "output_type": "stream",
     "text": [
      "Ente Number : 9\n",
      "9 is Odd.\n"
     ]
    }
   ],
   "source": [
    "n = int(input(\"Ente Number : \"))\n",
    "if(n % 2 == 0):\n",
    "    print(\"%d is Even.\" %(n))\n",
    "else:\n",
    "    print(\"%d is Odd.\" %(n))"
   ]
  },
  {
   "cell_type": "code",
   "execution_count": null,
   "metadata": {},
   "outputs": [],
   "source": []
  },
  {
   "cell_type": "code",
   "execution_count": null,
   "metadata": {},
   "outputs": [],
   "source": []
  },
  {
   "cell_type": "code",
   "execution_count": null,
   "metadata": {},
   "outputs": [],
   "source": []
  },
  {
   "cell_type": "markdown",
   "metadata": {},
   "source": [
    "## 7. Vowel Tester\n",
    "### Write a Python program to test whether a passed letter is a vowel or not\n",
    "#### Program Console Output 1:\n",
    "##### Enter a character: A\n",
    "###### Letter A is Vowel\n",
    "#### Program Console Output 2:\n",
    "##### Enter a character: e\n",
    "###### Letter e is Vowel\n",
    "#### Program Console Output 2:\n",
    "##### Enter a character: N\n",
    "###### Letter N is not Vowel"
   ]
  },
  {
   "cell_type": "code",
   "execution_count": 23,
   "metadata": {},
   "outputs": [
    {
     "name": "stdout",
     "output_type": "stream",
     "text": [
      "Enter a character : A\n",
      "Letter A is a Vowel\n"
     ]
    }
   ],
   "source": [
    "check = True\n",
    "vowel = [\"a\",\"e\",\"i\",\"o\",\"u\",\"A\",\"E\",\"I\",\"O\",\"U\"]\n",
    "c = input(\"Enter a character : \")\n",
    "for i in range(len(vowel)):\n",
    "    if(c == vowel[i]):\n",
    "        check = True\n",
    "        break\n",
    "    else:\n",
    "        check = False\n",
    "       \n",
    "if(check == False):\n",
    "    print(\"Letter %s is not a Vowel\" %(c))\n",
    "else:\n",
    "    print(\"Letter %s is a Vowel\" %(c))"
   ]
  },
  {
   "cell_type": "code",
   "execution_count": 24,
   "metadata": {},
   "outputs": [
    {
     "name": "stdout",
     "output_type": "stream",
     "text": [
      "Enter a character : e\n",
      "Letter e is a Vowel\n"
     ]
    }
   ],
   "source": [
    "check = True\n",
    "vowel = [\"a\",\"e\",\"i\",\"o\",\"u\",\"A\",\"E\",\"I\",\"O\",\"U\"]\n",
    "c = input(\"Enter a character : \")\n",
    "for i in range(len(vowel)):\n",
    "    if(c == vowel[i]):\n",
    "        check = True\n",
    "        break\n",
    "    else:\n",
    "        check = False\n",
    "       \n",
    "if(check == False):\n",
    "    print(\"Letter %s is not a Vowel\" %(c))\n",
    "else:\n",
    "    print(\"Letter %s is a Vowel\" %(c))"
   ]
  },
  {
   "cell_type": "code",
   "execution_count": 22,
   "metadata": {},
   "outputs": [
    {
     "name": "stdout",
     "output_type": "stream",
     "text": [
      "Enter a character : N\n",
      "Letter N is not a Vowel\n"
     ]
    }
   ],
   "source": [
    "check = True\n",
    "vowel = [\"a\",\"e\",\"i\",\"o\",\"u\",\"A\",\"E\",\"I\",\"O\",\"U\"]\n",
    "c = input(\"Enter a character : \")\n",
    "for i in range(len(vowel)):\n",
    "    if(c == vowel[i]):\n",
    "        check = True\n",
    "        break\n",
    "    else:\n",
    "        check = False\n",
    "       \n",
    "if(check == False):\n",
    "    print(\"Letter %s is not a Vowel\" %(c))\n",
    "else:\n",
    "    print(\"Letter %s is a Vowel\" %(c))"
   ]
  },
  {
   "cell_type": "code",
   "execution_count": null,
   "metadata": {},
   "outputs": [],
   "source": []
  },
  {
   "cell_type": "markdown",
   "metadata": {},
   "source": [
    "## 8. Triangle area\n",
    "### Write a Python program that will accept the base and height of a triangle and compute the area\n",
    "###### Reference:\n",
    "https://www.mathgoodies.com/lessons/vol1/area_triangle"
   ]
  },
  {
   "cell_type": "code",
   "execution_count": 26,
   "metadata": {},
   "outputs": [
    {
     "name": "stdout",
     "output_type": "stream",
     "text": [
      "Enter Base of Triangle : 2\n",
      "Enter Hypotenuse of Triangle : 2.7\n",
      "Area Of Triangle is 2.70\n"
     ]
    }
   ],
   "source": [
    "base = float(input(\"Enter Base of Triangle : \"))\n",
    "hyp = float(input(\"Enter Hypotenuse of Triangle : \"))\n",
    "Area = 0.5 * base * hyp\n",
    "print(\"Area Of Triangle is %.2f\" %(Area))"
   ]
  },
  {
   "cell_type": "code",
   "execution_count": null,
   "metadata": {},
   "outputs": [],
   "source": []
  },
  {
   "cell_type": "code",
   "execution_count": null,
   "metadata": {},
   "outputs": [],
   "source": []
  },
  {
   "cell_type": "code",
   "execution_count": null,
   "metadata": {},
   "outputs": [],
   "source": []
  },
  {
   "cell_type": "markdown",
   "metadata": {},
   "source": [
    "## 9. Calculate Interest\n",
    "### Write a Python program to compute the future value of a specified principal amount, rate of interest, and a number of years\n",
    "#### Program Console Sample 1:\n",
    "##### Please enter principal amount: 10000\n",
    "###### Please Enter Rate of interest in %: 0.1\n",
    "###### Enter number of years for investment: 5\n",
    "###### After 5 years your principal amount 10000 over an interest rate of 0.1 % will be 16105.1"
   ]
  },
  {
   "cell_type": "code",
   "execution_count": 2,
   "metadata": {},
   "outputs": [
    {
     "name": "stdout",
     "output_type": "stream",
     "text": [
      "Please enter principal amount : 10000\n",
      "Please enter Rate of interest in % : 0.1\n",
      "Enter number of years for investment : 5\n",
      "After 5 years your principal amount 10000 over an interest rate of 0.10  will be 16105.10.\n"
     ]
    }
   ],
   "source": [
    "\n",
    "amount = float(input(\"Please enter principal amount : \"))\n",
    "rate = float(input(\"Please enter Rate of interest in % : \"))\n",
    "year = int(input(\"Enter number of years for investment : \"))\n",
    "\n",
    "interest =  amount * ( 1+ rate )** year\n",
    "\n",
    "print(\"After %d years your principal amount %.f over an interest rate of %.2f  will be %.2f.\" %(year,amount,rate,interest))"
   ]
  },
  {
   "cell_type": "markdown",
   "metadata": {},
   "source": []
  },
  {
   "cell_type": "code",
   "execution_count": null,
   "metadata": {},
   "outputs": [],
   "source": []
  },
  {
   "cell_type": "code",
   "execution_count": null,
   "metadata": {},
   "outputs": [],
   "source": []
  },
  {
   "cell_type": "code",
   "execution_count": null,
   "metadata": {},
   "outputs": [],
   "source": []
  },
  {
   "cell_type": "code",
   "execution_count": null,
   "metadata": {},
   "outputs": [],
   "source": []
  },
  {
   "cell_type": "markdown",
   "metadata": {},
   "source": [
    "## 10. Euclidean distance\n",
    "### write a Python program to compute the distance between the points (x1, y1) and (x2, y2).\n",
    "#### Program Console Sample 1:\n",
    "###### Enter Co-ordinate for x1: 2\n",
    "###### Enter Co-ordinate for x2: 4\n",
    "###### Enter Co-ordinate for y1: 4\n",
    "###### Enter Co-ordinate for y2: 4\n",
    "###### Distance between points (2, 4) and (4, 4) is 2"
   ]
  },
  {
   "cell_type": "markdown",
   "metadata": {},
   "source": [
    "###### Reference:\n",
    "https://en.wikipedia.org/wiki/Euclidean_distance"
   ]
  },
  {
   "cell_type": "code",
   "execution_count": 37,
   "metadata": {},
   "outputs": [
    {
     "name": "stdout",
     "output_type": "stream",
     "text": [
      "Enter Co-ordinate for x1 : 2\n",
      "Enter Co-ordinate for x2 : 4\n",
      "Enter Co-ordinate for y1 : 4\n",
      "Enter Co-ordinate for y2 : 4\n",
      "Distance between points (2,4) and (4,4) is 2 \n"
     ]
    }
   ],
   "source": [
    "import math\n",
    "x1 = int(input(\"Enter Co-ordinate for x1 : \"))\n",
    "x2 = int(input(\"Enter Co-ordinate for x2 : \"))\n",
    "y1 = int(input(\"Enter Co-ordinate for y1 : \"))\n",
    "y2 = int(input(\"Enter Co-ordinate for y2 : \"))\n",
    "\n",
    "dist = ( (x2 - x1)**2 ) + ( (y2 - y1)**2 )\n",
    "dist = math.sqrt(dist)\n",
    "\n",
    "print(\"Distance between points (%d,%d) and (%d,%d) is %d \" %(x1,y1,x2,y2,dist))"
   ]
  },
  {
   "cell_type": "code",
   "execution_count": null,
   "metadata": {},
   "outputs": [],
   "source": []
  },
  {
   "cell_type": "code",
   "execution_count": null,
   "metadata": {},
   "outputs": [],
   "source": []
  },
  {
   "cell_type": "code",
   "execution_count": null,
   "metadata": {},
   "outputs": [],
   "source": []
  },
  {
   "cell_type": "markdown",
   "metadata": {},
   "source": [
    "## 11. Feet to Centimeter Converter\n",
    "### Write a Python program to convert height in feet to centimetres.\n",
    "##### Program Console Sample 1:\n",
    "###### Enter Height in Feet: 5\n",
    "###### There are 152.4 Cm in 5 ft\n",
    "###### Reference:\n",
    "https://www.rapidtables.com/convert/length/feet-to-cm.html"
   ]
  },
  {
   "cell_type": "code",
   "execution_count": 38,
   "metadata": {},
   "outputs": [
    {
     "name": "stdout",
     "output_type": "stream",
     "text": [
      "Enter Height in Feet : 5\n",
      "There are 152.4 Cm in 5 ft.\n"
     ]
    }
   ],
   "source": [
    "feet = float(input(\"Enter Height in Feet : \"))\n",
    "cent = feet * 30.48\n",
    "print(\"There are %.1f Cm in %.f ft.\" %(cent,feet))"
   ]
  },
  {
   "cell_type": "code",
   "execution_count": null,
   "metadata": {},
   "outputs": [],
   "source": []
  },
  {
   "cell_type": "code",
   "execution_count": null,
   "metadata": {},
   "outputs": [],
   "source": []
  },
  {
   "cell_type": "code",
   "execution_count": null,
   "metadata": {},
   "outputs": [],
   "source": []
  },
  {
   "cell_type": "markdown",
   "metadata": {},
   "source": [
    "## 12. BMI Calculator\n",
    "### Write a Python program to calculate body mass index\n",
    "##### Program Console Sample 1:\n",
    "###### Enter Height in Cm: 180\n",
    "###### Enter Weight in Kg: 75\n",
    "###### Your BMI is 23.15"
   ]
  },
  {
   "cell_type": "code",
   "execution_count": 42,
   "metadata": {},
   "outputs": [
    {
     "name": "stdout",
     "output_type": "stream",
     "text": [
      "Enter Height in Cm : 180\n",
      "Enter Weight in Kg : 75\n",
      "Your BMI is 23.15\n"
     ]
    }
   ],
   "source": [
    "height = float(input(\"Enter Height in Cm : \"))\n",
    "weight = float(input(\"Enter Weight in Kg : \"))\n",
    "height /= 100\n",
    "\n",
    "BMI = weight / (height)**2\n",
    "print(\"Your BMI is %.2f\" %(BMI))"
   ]
  },
  {
   "cell_type": "code",
   "execution_count": null,
   "metadata": {},
   "outputs": [],
   "source": []
  },
  {
   "cell_type": "code",
   "execution_count": null,
   "metadata": {},
   "outputs": [],
   "source": []
  },
  {
   "cell_type": "markdown",
   "metadata": {},
   "source": [
    "## 13. Sum of n Positive Integers\n",
    "### Write a python program to sum of the first n positive integers\n",
    "#### Program Console Sample 1:\n",
    "###### Enter value of n: 5\n",
    "###### Sum of n Positive integers till 5 is 15"
   ]
  },
  {
   "cell_type": "code",
   "execution_count": 48,
   "metadata": {},
   "outputs": [
    {
     "name": "stdout",
     "output_type": "stream",
     "text": [
      "Enter Value of n : 5\n",
      "Sum of n Positive integers till 5 is 15\n"
     ]
    }
   ],
   "source": [
    "numb = 0\n",
    "number = int(input(\"Enter Value of n : \"))\n",
    "if(number < 0):\n",
    "    print(\"ERROR.Number Should be Positive.\")\n",
    "else:\n",
    "    for i in range(number + 1):\n",
    "        numb += i\n",
    "\n",
    "print(\"Sum of n Positive integers till %d is %d\" %(number,numb))        "
   ]
  },
  {
   "cell_type": "code",
   "execution_count": null,
   "metadata": {},
   "outputs": [],
   "source": []
  },
  {
   "cell_type": "code",
   "execution_count": null,
   "metadata": {},
   "outputs": [],
   "source": []
  },
  {
   "cell_type": "markdown",
   "metadata": {},
   "source": [
    "## 14. Digits Sum of a Number\n",
    "### Write a Python program to calculate the sum of the digits in an integer\n",
    "#### Program Console Sample 1:\n",
    "##### Enter a number: 15\n",
    "###### Sum of 1 + 5 is 6\n",
    "#### Program Console Sample 2:\n",
    "##### Enter a number: 1234\n",
    "###### Sum of 1 + 2 + 3 + 4 is 10"
   ]
  },
  {
   "cell_type": "code",
   "execution_count": 3,
   "metadata": {},
   "outputs": [
    {
     "name": "stdout",
     "output_type": "stream",
     "text": [
      "Enter a number : 15\n",
      "Sum of 1 + 5 is 6 \n"
     ]
    }
   ],
   "source": [
    "numb = 0\n",
    "sum1 = 0\n",
    "numb = (input(\"Enter a number : \"))\n",
    "#Arr1 = []\n",
    "numb1 = numb\n",
    "\n",
    "numb = int(numb)\n",
    "\n",
    "while(numb > 0):\n",
    "    new = numb % 10\n",
    "#    Arr1.append(new)\n",
    "    sum1 = sum1 + new\n",
    "    numb = numb // 10\n",
    "    \n",
    "#Arr1.reverse()\n",
    "#for i in range(Arr1):\n",
    "#    sum1 += Arr1[i]\n",
    "print(\"Sum of \",end = '')    \n",
    "for i in range(len(numb1)):\n",
    "    if(i == (len(numb1) - 1 )):\n",
    "        print(\"%s is %d \" %(numb1[i],sum1))\n",
    "    else:    \n",
    "        print(\"%s + \" %(numb1[i]) , end ='' )"
   ]
  },
  {
   "cell_type": "code",
   "execution_count": 4,
   "metadata": {},
   "outputs": [
    {
     "name": "stdout",
     "output_type": "stream",
     "text": [
      "Enter a number : 1234\n",
      "Sum of 1 + 2 + 3 + 4 is 10 \n"
     ]
    }
   ],
   "source": [
    "numb = 0\n",
    "sum1 = 0\n",
    "numb = (input(\"Enter a number : \"))\n",
    "#Arr1 = []\n",
    "numb1 = numb\n",
    "\n",
    "numb = int(numb)\n",
    "\n",
    "while(numb > 0):\n",
    "    new = numb % 10\n",
    "#    Arr1.append(new)\n",
    "    sum1 = sum1 + new\n",
    "    numb = numb // 10\n",
    "    \n",
    "#Arr1.reverse()\n",
    "#for i in range(Arr1):\n",
    "#    sum1 += Arr1[i]\n",
    "print(\"Sum of \",end = '')    \n",
    "for i in range(len(numb1)):\n",
    "    if(i == (len(numb1) - 1 )):\n",
    "        print(\"%s is %d \" %(numb1[i],sum1))\n",
    "    else:    \n",
    "        print(\"%s + \" %(numb1[i]) , end ='' )"
   ]
  },
  {
   "cell_type": "markdown",
   "metadata": {},
   "source": []
  },
  {
   "cell_type": "markdown",
   "metadata": {},
   "source": []
  },
  {
   "cell_type": "code",
   "execution_count": null,
   "metadata": {},
   "outputs": [],
   "source": []
  },
  {
   "cell_type": "code",
   "execution_count": null,
   "metadata": {},
   "outputs": [],
   "source": []
  },
  {
   "cell_type": "code",
   "execution_count": null,
   "metadata": {},
   "outputs": [],
   "source": []
  },
  {
   "cell_type": "code",
   "execution_count": null,
   "metadata": {},
   "outputs": [],
   "source": []
  }
 ],
 "metadata": {
  "kernelspec": {
   "display_name": "Python 3",
   "language": "python",
   "name": "python3"
  },
  "language_info": {
   "codemirror_mode": {
    "name": "ipython",
    "version": 3
   },
   "file_extension": ".py",
   "mimetype": "text/x-python",
   "name": "python",
   "nbconvert_exporter": "python",
   "pygments_lexer": "ipython3",
   "version": "3.7.3"
  }
 },
 "nbformat": 4,
 "nbformat_minor": 2
}
